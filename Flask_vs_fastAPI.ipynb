{
 "cells": [
  {
   "cell_type": "code",
   "execution_count": 1,
   "metadata": {
    "collapsed": true
   },
   "outputs": [],
   "source": [
    "import requests\n",
    "import matplotlib.pyplot as plt"
   ]
  },
  {
   "cell_type": "code",
   "execution_count": 2,
   "metadata": {},
   "outputs": [],
   "source": [
    "time_flask = []\n",
    "time_fastapi = []\n",
    "MC_simulations = []\n",
    "Difference = []\n",
    "nb_simulations = 100\n",
    "for n in range(6):\n",
    "    nb_simulations *= 10\n",
    "    MC_simulations.append(nb_simulations)\n",
    "    data = {\"n\": nb_simulations}\n",
    "    return_flask = requests.get('http://localhost:5000', params = data)\n",
    "    return_fastapi = requests.get('http://localhost:8000', params = data)\n",
    "    time_flask.append(return_flask.json()['time'])\n",
    "    time_fastapi.append(return_fastapi.json()['time'])\n",
    "    Difference.append((return_flask.json()['time']/return_fastapi.json()['time'])*100 - 100)\n",
    "\n"
   ]
  },
  {
   "cell_type": "code",
   "execution_count": 3,
   "metadata": {},
   "outputs": [
    {
     "name": "stdout",
     "output_type": "stream",
     "text": [
      "[1000, 10000, 100000, 1000000, 10000000, 100000000]\n",
      "[0.0007107257843017578, 0.003173828125, 0.031195402145385742, 0.3166966438293457, 3.069892644882202, 31.40816855430603]\n",
      "[0.0007526874542236328, 0.0038504600524902344, 0.030806303024291992, 0.2999296188354492, 3.0053775310516357, 29.90876293182373]\n",
      "[-5.5749128919860595, -17.572755417956657, 1.263050359489526, 5.590319842034461, 2.146655891447736, 5.013265262425449]\n"
     ]
    }
   ],
   "source": [
    "print(MC_simulations)\n",
    "print(time_flask)\n",
    "print(time_fastapi)\n",
    "print(Difference)"
   ]
  },
  {
   "cell_type": "code",
   "execution_count": 4,
   "metadata": {},
   "outputs": [
    {
     "data": {
      "image/png": "[encoded data removed]",
      "text/plain": [
       "<matplotlib.figure.Figure at 0x7f072cfa30b8>"
      ]
     },
     "metadata": {},
     "output_type": "display_data"
    }
   ],
   "source": [
    "plt.plot(MC_simulations, Difference)\n",
    "plt.ylabel('(flask - fastapi)/fastapi %')\n",
    "plt.xscale('log')\n",
    "plt.show()"
   ]
  },
  {
   "cell_type": "code",
   "execution_count": null,
   "metadata": {
    "collapsed": true
   },
   "outputs": [],
   "source": []
  },
  {
   "cell_type": "code",
   "execution_count": null,
   "metadata": {
    "collapsed": true
   },
   "outputs": [],
   "source": []
  }
 ],
 "metadata": {
  "kernelspec": {
   "display_name": "Python 3",
   "language": "python",
   "name": "python3"
  },
  "language_info": {
   "codemirror_mode": {
    "name": "ipython",
    "version": 3
   },
   "file_extension": ".py",
   "mimetype": "text/x-python",
   "name": "python",
   "nbconvert_exporter": "python",
   "pygments_lexer": "ipython3",
   "version": "3.6.3"
  }
 },
 "nbformat": 4,
 "nbformat_minor": 2
}
